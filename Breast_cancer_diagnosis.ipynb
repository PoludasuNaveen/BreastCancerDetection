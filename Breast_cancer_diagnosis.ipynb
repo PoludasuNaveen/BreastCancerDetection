{
  "nbformat": 4,
  "nbformat_minor": 0,
  "metadata": {
    "colab": {
      "provenance": []
    },
    "kernelspec": {
      "name": "python3",
      "display_name": "Python 3"
    },
    "language_info": {
      "name": "python"
    }
  },
  "cells": [
    {
      "cell_type": "markdown",
      "source": [
        "# Data Preprocessing "
      ],
      "metadata": {
        "id": "iE2TzuhcH14U"
      }
    },
    {
      "cell_type": "markdown",
      "source": [
        "**Importing Libraries**"
      ],
      "metadata": {
        "id": "6VfQG8AwNiCi"
      }
    },
    {
      "cell_type": "code",
      "source": [
        "import numpy as np\n",
        "import pandas as pd\n",
        "import matplotlib.pyplot as plt\n",
        "from sklearn.metrics import accuracy_score"
      ],
      "metadata": {
        "id": "ZzMn3OBzNqLg"
      },
      "execution_count": 1,
      "outputs": []
    },
    {
      "cell_type": "markdown",
      "source": [
        "**Importing Dataset**"
      ],
      "metadata": {
        "id": "Vl27Ui-5N8cJ"
      }
    },
    {
      "cell_type": "code",
      "source": [
        "df=pd.read_csv(\"Breast cancer_data.csv\")\n",
        "df.replace('?',-99999,inplace=True)\n",
        "df.drop(['id'],1,inplace=True)\n",
        "X=df.iloc[:, :-1].values\n",
        "y=df.iloc[:, -1].values"
      ],
      "metadata": {
        "colab": {
          "base_uri": "https://localhost:8080/"
        },
        "id": "ruV2j3XAOArw",
        "outputId": "e31c4737-05a9-4dc3-f950-d14a92f4f359"
      },
      "execution_count": 2,
      "outputs": [
        {
          "output_type": "stream",
          "name": "stderr",
          "text": [
            "<ipython-input-2-3b56770a1945>:3: FutureWarning: In a future version of pandas all arguments of DataFrame.drop except for the argument 'labels' will be keyword-only\n",
            "  df.drop(['id'],1,inplace=True)\n"
          ]
        }
      ]
    },
    {
      "cell_type": "code",
      "source": [
        "print(X)"
      ],
      "metadata": {
        "colab": {
          "base_uri": "https://localhost:8080/"
        },
        "id": "9TnWgCLCEW_X",
        "outputId": "33f86151-be62-48fe-9c71-6b4079099c88"
      },
      "execution_count": 3,
      "outputs": [
        {
          "output_type": "stream",
          "name": "stdout",
          "text": [
            "[[5 1 1 ... 3 1 1]\n",
            " [5 4 4 ... 3 2 1]\n",
            " [3 1 1 ... 3 1 1]\n",
            " ...\n",
            " [5 10 10 ... 8 10 2]\n",
            " [4 8 6 ... 10 6 1]\n",
            " [4 8 8 ... 10 4 1]]\n"
          ]
        }
      ]
    },
    {
      "cell_type": "code",
      "source": [
        "print(y)"
      ],
      "metadata": {
        "colab": {
          "base_uri": "https://localhost:8080/"
        },
        "id": "izx9MN-cDQL-",
        "outputId": "a39dd0c2-6f81-4cf6-9d3d-deb1be4c7b9d"
      },
      "execution_count": 4,
      "outputs": [
        {
          "output_type": "stream",
          "name": "stdout",
          "text": [
            "[0 0 0 0 0 1 0 0 0 0 0 0 1 0 1 1 0 0 1 0 1 1 0 1 0 1 0 0 0 0 0 0 1 0 0 0 1\n",
            " 0 1 1 0 1 1 1 1 0 1 0 0 1 1 1 1 1 1 1 1 1 1 1 1 0 1 1 0 1 0 1 1 0 0 1 0 1\n",
            " 1 0 0 0 0 0 0 0 0 0 1 1 1 1 0 0 0 0 0 0 0 0 0 0 1 1 1 1 0 1 1 1 1 1 0 1 0\n",
            " 1 1 1 0 0 0 1 0 0 0 0 1 1 1 0 1 0 1 0 0 0 1 0 0 0 0 0 0 0 0 0 1 0 0 0 1 0\n",
            " 0 1 0 1 1 0 0 1 0 0 0 1 1 0 0 0 0 0 1 1 0 0 0 0 0 1 1 1 0 1 0 1 0 0 0 1 1\n",
            " 0 1 1 1 0 1 1 0 0 0 0 0 0 0 0 1 1 0 0 0 1 1 0 0 0 1 1 0 1 1 1 0 0 1 0 0 1\n",
            " 1 1 1 0 1 1 0 1 1 1 0 1 0 0 1 1 1 1 0 0 0 0 0 0 1 1 0 0 0 1 0 1 1 1 0 0 0\n",
            " 0 1 1 1 1 1 0 1 1 1 0 1 0 1 1 0 0 0 0 0 1 0 0 1 1 1 1 1 0 1 1 0 0 1 1 0 1\n",
            " 0 0 0 1 1 0 1 0 1 1 0 0 1 0 0 0 1 0 0 0 1 1 0 0 1 0 0 1 0 0 1 0 1 1 1 0 0\n",
            " 1 1 0 1 0 0 1 1 0 0 0 1 0 0 0 1 1 0 0 0 1 0 0 1 1 1 1 1 1 0 0 0 0 1 1 0 0\n",
            " 0 0 0 0 0 0 0 0 0 0 0 1 0 0 0 0 1 0 0 0 0 1 0 0 0 0 0 0 0 0 1 0 0 0 0 0 0\n",
            " 0 0 0 0 0 1 0 1 0 1 0 0 0 0 1 0 0 0 1 0 1 0 0 0 0 0 0 0 1 1 0 0 0 1 0 0 0\n",
            " 0 0 0 0 0 1 0 0 0 1 0 1 1 1 0 0 0 0 0 0 0 1 1 1 0 0 0 0 0 0 0 0 0 0 0 1 0\n",
            " 0 1 1 0 0 0 1 1 1 0 1 0 1 0 0 0 0 0 0 0 0 0 0 0 0 1 0 0 0 0 0 0 0 1 1 0 0\n",
            " 0 1 0 0 1 1 0 0 0 0 0 0 1 0 0 0 0 0 0 0 0 0 0 0 0 0 0 0 1 0 0 1 0 0 0 0 0\n",
            " 0 0 0 0 0 0 0 0 0 0 1 0 0 1 1 1 1 0 0 1 0 0 0 0 0 0 1 1 0 0 0 1 0 1 0 1 1\n",
            " 1 0 1 0 0 0 0 0 0 0 0 1 1 1 0 0 1 0 1 1 1 0 0 0 0 0 0 0 0 0 0 0 0 0 1 0 0\n",
            " 0 0 0 0 1 0 0 1 0 0 0 0 0 0 0 0 0 0 0 1 0 0 0 0 0 0 0 0 0 1 0 0 0 0 0 0 0\n",
            " 0 0 1 1 1 0 0 0 0 0 0 0 0 0 1 1 0 0 0 0 0 0 0 0 0 1 0 0 0 0 1 1 1]\n"
          ]
        }
      ]
    },
    {
      "cell_type": "markdown",
      "source": [
        " **Splitting data into Test set and Training set** "
      ],
      "metadata": {
        "id": "59n63e5ePYZi"
      }
    },
    {
      "cell_type": "code",
      "source": [
        "from sklearn.model_selection import train_test_split\n",
        "X_train, X_test, y_train, y_test = train_test_split(X, y, test_size = 0.35, random_state = 42)"
      ],
      "metadata": {
        "id": "lk_zai57PcH9"
      },
      "execution_count": 5,
      "outputs": []
    },
    {
      "cell_type": "markdown",
      "source": [
        "**Feature Scaling**"
      ],
      "metadata": {
        "id": "IqHzM1efPi-e"
      }
    },
    {
      "cell_type": "code",
      "source": [
        "from sklearn.preprocessing import StandardScaler\n",
        "sc = StandardScaler()\n",
        "X_train = sc.fit_transform(X_train)\n",
        "X_test = sc.transform(X_test)\n"
      ],
      "metadata": {
        "id": "YIeIVRjXPnHy"
      },
      "execution_count": 6,
      "outputs": []
    },
    {
      "cell_type": "code",
      "source": [
        "print(X_train)"
      ],
      "metadata": {
        "colab": {
          "base_uri": "https://localhost:8080/"
        },
        "id": "j157VGNPLOGd",
        "outputId": "f6a02afd-372b-4f16-eb7a-ac17f128f285"
      },
      "execution_count": 7,
      "outputs": [
        {
          "output_type": "stream",
          "name": "stdout",
          "text": [
            "[[-1.25811098 -0.71205673 -0.76617475 ... -0.98624168 -0.60836032\n",
            "  -0.34094267]\n",
            " [ 1.22683414  0.27958056  0.2420668  ... -0.17947821  0.06283187\n",
            "  -0.34094267]\n",
            " [ 0.51684982  2.26285512  0.57814732 ...  1.03066698  2.41200454\n",
            "  -0.34094267]\n",
            " ...\n",
            " [ 1.22683414  0.27958056  1.25030836 ... -0.17947821  2.07640844\n",
            "   0.28827673]\n",
            " [ 1.93681846  1.6017636   2.25854991 ...  0.62728525 -0.60836032\n",
            "  -0.34094267]\n",
            " [-0.1931345  -0.71205673 -0.43009423 ... -0.17947821 -0.60836032\n",
            "  -0.34094267]]\n"
          ]
        }
      ]
    },
    {
      "cell_type": "code",
      "source": [
        "print(X_test)"
      ],
      "metadata": {
        "colab": {
          "base_uri": "https://localhost:8080/"
        },
        "id": "jRCiWU5gLR8l",
        "outputId": "97b4e65b-51e2-4e76-e1c9-fd74642836db"
      },
      "execution_count": 8,
      "outputs": [
        {
          "output_type": "stream",
          "name": "stdout",
          "text": [
            "[[-1.25811098 -0.71205673 -0.43009423 ... -0.98624168 -0.60836032\n",
            "  -0.34094267]\n",
            " [-0.1931345  -0.71205673 -0.76617475 ... -0.58285995 -0.60836032\n",
            "  -0.34094267]\n",
            " [-0.54812666 -0.71205673 -0.76617475 ... -0.17947821 -0.60836032\n",
            "  -0.34094267]\n",
            " ...\n",
            " [-1.25811098 -0.71205673 -0.76617475 ... -0.98624168 -0.60836032\n",
            "  -0.34094267]\n",
            " [ 1.22683414  0.94067208  1.25030836 ... -0.17947821  0.39842796\n",
            "   0.28827673]\n",
            " [-0.54812666  0.61012632  1.25030836 ...  1.43404871  2.41200454\n",
            "   3.43437372]]\n"
          ]
        }
      ]
    },
    {
      "cell_type": "markdown",
      "source": [
        "**Principle component analysis**"
      ],
      "metadata": {
        "id": "BFNEAOFuPr_5"
      }
    },
    {
      "cell_type": "code",
      "source": [
        "from sklearn.decomposition import PCA\n",
        "pca = PCA(n_components=2)\n",
        "X_train = pca.fit_transform(X_train)\n",
        "X_test = pca.fit_transform(X_test)\n",
        "explained_variance=pca.explained_variance_ratio_\n"
      ],
      "metadata": {
        "id": "gKSBEe4mPxEC"
      },
      "execution_count": 9,
      "outputs": []
    },
    {
      "cell_type": "markdown",
      "source": [
        "**Fitting KNN to the Training set**"
      ],
      "metadata": {
        "id": "71Kbs0imQFkU"
      }
    },
    {
      "cell_type": "code",
      "source": [
        "\n",
        "from sklearn.neighbors import KNeighborsClassifier\n",
        "knn = []\n",
        "for i in range(1,21):\n",
        "            \n",
        "    classifier = KNeighborsClassifier(n_neighbors=i)\n",
        "    trained_model=classifier.fit(X_train,y_train)\n",
        "    trained_model.fit(X_train,y_train )"
      ],
      "metadata": {
        "id": "5JHAWSi6P9Og"
      },
      "execution_count": 10,
      "outputs": []
    },
    {
      "cell_type": "markdown",
      "source": [
        "**Predicting the test results**"
      ],
      "metadata": {
        "id": "nDLEMz8NQNz3"
      }
    },
    {
      "cell_type": "code",
      "source": [
        "    y_pred = classifier.predict(X_test)"
      ],
      "metadata": {
        "id": "mg7w1nXOQS82"
      },
      "execution_count": 11,
      "outputs": []
    },
    {
      "cell_type": "markdown",
      "source": [
        "**Making Confusion Matrix**"
      ],
      "metadata": {
        "id": "jwgaQWAlQYBf"
      }
    },
    {
      "cell_type": "code",
      "source": [
        "from sklearn.metrics import confusion_matrix\n",
        "    \n",
        "cm_KNN = confusion_matrix(y_test, y_pred)\n",
        "print(cm_KNN)\n",
        "print(\"Accuracy score of train KNN\")\n",
        "print(accuracy_score(y_train, trained_model.predict(X_train))*100)\n",
        "    \n",
        "print(\"Accuracy score of test KNN\")\n",
        "print(accuracy_score(y_test, y_pred)*100)\n",
        "\n",
        "  "
      ],
      "metadata": {
        "id": "ouDnzGFzQyEM",
        "colab": {
          "base_uri": "https://localhost:8080/"
        },
        "outputId": "7b6284ff-2a1b-4a46-dbf7-9d742d2561ce"
      },
      "execution_count": 12,
      "outputs": [
        {
          "output_type": "stream",
          "name": "stdout",
          "text": [
            "[[160   4]\n",
            " [  3  78]]\n",
            "Accuracy score of train KNN\n",
            "96.0352422907489\n",
            "Accuracy score of test KNN\n",
            "97.14285714285714\n"
          ]
        }
      ]
    },
    {
      "cell_type": "markdown",
      "source": [
        "**Fitting SVM to the Training set**"
      ],
      "metadata": {
        "id": "5ABj2cC8S1fv"
      }
    },
    {
      "cell_type": "code",
      "source": [
        "from sklearn.svm import SVC\n",
        "classifier = SVC(kernel = 'linear', random_state = 0)\n",
        "\n",
        "trained_model=classifier.fit(X_train,y_train)\n",
        "trained_model.fit(X_train,y_train )"
      ],
      "metadata": {
        "id": "LyILYpGPS55p",
        "colab": {
          "base_uri": "https://localhost:8080/"
        },
        "outputId": "9bcdb957-5540-40ed-b773-f3633a35a4b2"
      },
      "execution_count": 13,
      "outputs": [
        {
          "output_type": "execute_result",
          "data": {
            "text/plain": [
              "SVC(kernel='linear', random_state=0)"
            ]
          },
          "metadata": {},
          "execution_count": 13
        }
      ]
    },
    {
      "cell_type": "markdown",
      "source": [
        "**Predicting the Test set results**"
      ],
      "metadata": {
        "id": "sUC523jnTEQU"
      }
    },
    {
      "cell_type": "code",
      "source": [
        "y_pred = classifier.predict(X_test)"
      ],
      "metadata": {
        "id": "abMsrL_bTKKT"
      },
      "execution_count": 14,
      "outputs": []
    },
    {
      "cell_type": "markdown",
      "source": [
        "**Making the Confusion matrix**"
      ],
      "metadata": {
        "id": "1HiUdEj3TWCM"
      }
    },
    {
      "cell_type": "code",
      "source": [
        "from sklearn.metrics import confusion_matrix\n",
        "cm_SVM = confusion_matrix(y_test, y_pred)\n",
        "print(cm_SVM)\n",
        "print(\"Accuracy score of train SVM\")\n",
        "print(accuracy_score(y_train, trained_model.predict(X_train))*100)\n",
        "\n",
        "print(\"Accuracy score of test SVM\")\n",
        "print(accuracy_score(y_test, y_pred)*100)"
      ],
      "metadata": {
        "colab": {
          "base_uri": "https://localhost:8080/"
        },
        "id": "GrylF9nfTa1c",
        "outputId": "e8e60489-96cd-4f5f-c03d-93d43c65b5a0"
      },
      "execution_count": 15,
      "outputs": [
        {
          "output_type": "stream",
          "name": "stdout",
          "text": [
            "[[160   4]\n",
            " [  4  77]]\n",
            "Accuracy score of train SVM\n",
            "96.47577092511013\n",
            "Accuracy score of test SVM\n",
            "96.73469387755102\n"
          ]
        }
      ]
    }
  ]
}